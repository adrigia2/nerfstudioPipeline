{
 "cells": [
  {
   "cell_type": "markdown",
   "metadata": {},
   "source": [
    "# 3D Model Generator Setup Notebook\n",
    "\n",
    "This notebook guides you through setting up your environment for Nerfstudio, including installing Anaconda, CUDA, PyTorch, and the necessary projects.\n",
    "\n",
    "> **Note:** Execute these commands inside a folder\n",
    "\n",
    "# This installation process is the same of the original NerfStudio installation, the only difference is the step number 7 (the step number 8 is used only for gaussian splatting)\n",
    "\n",
    "---\n",
    "\n",
    "## 1. Install Anaconda\n",
    "\n",
    "Download Anaconda from [here](https://www.anaconda.com/download).\n",
    "\n",
    "> **Note:** Follow the installation instructions on the website for your operating system.\n",
    "\n",
    "---\n",
    "\n",
    "## 2. Install CUDA\n",
    "\n",
    "Download the latest version of CUDA from [here](https://developer.nvidia.com/cuda-downloads).\n",
    "\n",
    "> **Tip:** Make sure your GPU is supported and check the release notes for any special installation instructions.\n",
    "\n",
    "---\n",
    "\n",
    "## 3. Create and Activate a New Anaconda Environment\n",
    "\n",
    "Use a Code cell to create and activate your environment:\n",
    "\n",
    "```bash\n",
    "conda create -n nerfstudiotest python=3.11.10\n",
    "conda activate nerfstudiotest\n",
    "```\n",
    "---\n",
    "\n",
    "## 4. Install PyTorch\n",
    "Install PyTorch with CUDA support using the following command:\n",
    "\n",
    "```bash\n",
    "pip3 install torch torchvision torchaudio --index-url https://download.pytorch.org/whl/cu124\n",
    "```\n",
    "---\n",
    "\n",
    "## 5. Install CUDA Toolkit\n",
    "Install the CUDA toolkit through Conda:\n",
    "```bash\n",
    "conda install -c \"nvidia/label/cuda-12.4.1\" cuda-toolkit\n",
    "```\n",
    "---\n",
    "\n",
    "## 6. Install tinycuda\n",
    "Install tinycuda using Git:\n",
    "```bash\n",
    "pip install git+https://github.com/NVlabs/tiny-cuda-nn/#subdirectory=bindings/torch\n",
    "```\n",
    "---\n",
    "\n",
    "## !!!!! 7. Install My Nerfstudio Fork Implementation !!!!!\n",
    "Clone the repository and install your fork:\n",
    "```bash\n",
    "git clone -b dev https://github.com/adrigia2/nerfstudioCameraScreen.git\n",
    "cd nerfstudioCameraScreen\n",
    "pip install --upgrade pip setuptools\n",
    "pip install -e .\n",
    "```\n",
    "---\n",
    "\n",
    "## 8. Install Gaussian Splatting\n",
    "Install Gaussian Splatting:\n",
    "\n",
    "```bash\n",
    "pip install git+https://github.com/nerfstudio-project/gsplat.git\n",
    "```\n",
    "for some issues check [this](https://github.com/nerfstudio-project/nerfstudio/issues/2727) discussion\n",
    "\n",
    "\n"
   ]
  },
  {
   "cell_type": "markdown",
   "metadata": {},
   "source": []
  },
  {
   "cell_type": "markdown",
   "metadata": {},
   "source": []
  },
  {
   "cell_type": "markdown",
   "metadata": {},
   "source": [
    "# Huggingface Models\n",
    "To use Hugging Face models, you first need to install the necessary dependencies.\n",
    "```bash\n",
    "pip install diffusers transformers accelerate scipy safetensors datasets\n",
    "```\n",
    "---\n",
    "## 1. Models Test\n",
    "To test the model run see the folder ```test_diffusion_model```\n",
    "\n",
    "---\n",
    "\n",
    "## 2. Dataset Script"
   ]
  },
  {
   "cell_type": "markdown",
   "metadata": {},
   "source": []
  },
  {
   "cell_type": "markdown",
   "metadata": {},
   "source": []
  },
  {
   "cell_type": "markdown",
   "metadata": {},
   "source": []
  },
  {
   "cell_type": "markdown",
   "metadata": {},
   "source": []
  },
  {
   "cell_type": "markdown",
   "metadata": {},
   "source": []
  }
 ],
 "metadata": {
  "kernelspec": {
   "display_name": "base",
   "language": "python",
   "name": "python3"
  },
  "language_info": {
   "codemirror_mode": {
    "name": "ipython",
    "version": 3
   },
   "file_extension": ".py",
   "mimetype": "text/x-python",
   "name": "python",
   "nbconvert_exporter": "python",
   "pygments_lexer": "ipython3",
   "version": "3.11.5"
  }
 },
 "nbformat": 4,
 "nbformat_minor": 2
}
